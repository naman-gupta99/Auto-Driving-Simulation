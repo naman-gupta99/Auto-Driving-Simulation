{
 "cells": [
  {
   "cell_type": "markdown",
   "metadata": {},
   "source": [
    "# Kinematic Bicycle Model Representation of a Car\n",
    "\n",
    " Bicycle model is a really simple and powerful model that is commonly used to represent a car in order to read the cars behaviour according to the set velocity and steering angle (or Rate of change in steering angle). The model is commonly used to develop simple alogorithms for cars motion in a set trajectory.\n",
    " \n",
    " This model is based on the Center Of Gravity frame referance. The equations defining the vehices motion are :\n",
    " 𝑥˙𝑐𝑦˙𝑐𝜃˙𝛿˙𝛽=𝑣cos(𝜃+𝛽)=𝑣sin(𝜃+𝛽)=𝑣cos𝛽tan𝛿𝐿=𝜔=tan−1(𝑙𝑟tan𝛿𝐿)"
   ]
  },
  {
   "cell_type": "code",
   "execution_count": null,
   "metadata": {},
   "outputs": [],
   "source": []
  },
  {
   "cell_type": "code",
   "execution_count": 5,
   "metadata": {},
   "outputs": [],
   "source": [
    "import numpy as np\n",
    "import matplotlib.pyplot as plt\n",
    "import matplotlib.image as mpimg\n",
    "\n",
    "class Bicycle():\n",
    "    def __init__(self):\n",
    "        self.xc = 0\n",
    "        self.yc = 0\n",
    "        self.theta = 0\n",
    "        self.delta = 0\n",
    "        self.beta = 0\n",
    "        \n",
    "        self.L = 2\n",
    "        self.lr = 1.2\n",
    "        self.w_max = 1.22\n",
    "        \n",
    "        self.sample_time = 0.01\n",
    "        \n",
    "    def reset(self):\n",
    "        self.xc = 0\n",
    "        self.yc = 0\n",
    "        self.theta = 0\n",
    "        self.delta = 0\n",
    "        self.beta = 0"
   ]
  },
  {
   "cell_type": "code",
   "execution_count": 6,
   "metadata": {},
   "outputs": [],
   "source": [
    "class Bicycle(Bicycle):\n",
    "    def step(self, v, w):\n",
    "        # ==================================\n",
    "        \n",
    "        #  Implement kinematic model here\n",
    "        \n",
    "        # w max setup\n",
    "        if w > self.w_max :\n",
    "            w = self.w_max\n",
    "        # Setting Delta\n",
    "        self.delta = w * self.sample_time + self.delta\n",
    "        # Calculating tan(delta)\n",
    "        tan_delta = np.tan(self.delta)\n",
    "        # Setting Beta\n",
    "        self.beta = np.arctan(self.lr * tan_delta / self.L)\n",
    "        # Calculating cas(beta) \n",
    "        cos_beta = np.cos(self.beta)\n",
    "        # Setting Theta\n",
    "        self.theta = (v * cos_beta * tan_delta * self.sample_time / self.L) + self.theta\n",
    "        # Setting xc\n",
    "        self.xc = (v * np.cos(self.theta + self.beta) * self.sample_time) + self.xc\n",
    "        # Setting yc\n",
    "        self.yc = (v * np.sin(self.theta + self.beta) * self.sample_time) + self.yc\n",
    "        \n",
    "        # ==================================\n",
    "        pass"
   ]
  },
  {
   "cell_type": "code",
   "execution_count": 9,
   "metadata": {},
   "outputs": [
    {
     "data": {
      "image/png": "[encoded data removed]",
      "text/plain": [
       "<Figure size 432x288 with 1 Axes>"
      ]
     },
     "metadata": {
      "needs_background": "light"
     },
     "output_type": "display_data"
    }
   ],
   "source": [
    "sample_time = 0.01\n",
    "time_end = 30\n",
    "model = Bicycle()\n",
    "model.reset()\n",
    "\n",
    "t_data = np.arange(0,time_end,sample_time)\n",
    "x_data = np.zeros_like(t_data)\n",
    "y_data = np.zeros_like(t_data)\n",
    "v_data = np.zeros_like(t_data)\n",
    "w_data = np.zeros_like(t_data)\n",
    "\n",
    "# ==================================\n",
    "#  Learner solution begins here\n",
    "# ==================================\n",
    "\n",
    "v_data[:] = 3.351\n",
    "w_data[0:20] = 1.22\n",
    "w_data[355:395] = -1.22\n",
    "w_data[1855:1895] = 1.22\n",
    "\n",
    "for i in range(t_data.shape[0]):\n",
    "    x_data[i] = model.xc\n",
    "    y_data[i] = model.yc\n",
    "    model.step(v_data[i], w_data[i])\n",
    "    \n",
    "# ==================================\n",
    "#  Learner solution ends here\n",
    "# ==================================\n",
    "plt.axis('equal')\n",
    "plt.plot(x_data, y_data)\n",
    "plt.show()"
   ]
  }
 ],
 "metadata": {
  "kernelspec": {
   "display_name": "Python 3",
   "language": "python",
   "name": "python3"
  },
  "language_info": {
   "codemirror_mode": {
    "name": "ipython",
    "version": 3
   },
   "file_extension": ".py",
   "mimetype": "text/x-python",
   "name": "python",
   "nbconvert_exporter": "python",
   "pygments_lexer": "ipython3",
   "version": "3.7.1"
  }
 },
 "nbformat": 4,
 "nbformat_minor": 2
}
