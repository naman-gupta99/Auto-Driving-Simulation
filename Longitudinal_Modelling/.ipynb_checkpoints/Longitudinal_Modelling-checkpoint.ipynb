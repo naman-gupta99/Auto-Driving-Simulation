{
 "cells": [
  {
   "cell_type": "markdown",
   "metadata": {},
   "source": [
    "# Longitudinal Vehicle Model Representation of a Car\n",
    "\n",
    "The Longitudinal Vehicle model is based on the simple dynamics of the vehicle that make the vehicle move forward.\n",
    "\n",
    "The equations defining the vehicles motion are described below : \n",
    "\n",
    "The dynamic equations consist of many stages to convert throttle inputs to wheel speed (engine -> torque converter -> transmission -> wheel). These stages are bundled together in a single inertia term $J_e$ which is used in the following combined engine dynamic equations.\n",
    "\n",
    "\\begin{align}\n",
    "    J_e \\dot{\\omega}_e &= T_e - (GR)(r_{eff} F_{load}) \\\\ m\\ddot{x} &= F_x - F_{load}\n",
    "\\end{align}\n",
    "\n",
    "Where $T_e$ is the engine torque, $GR$ is the gear ratio, $r_{eff}$ is the effective radius, $m$ is the vehicle mass, $x$ is the vehicle position, $F_x$ is the tire force, and $F_{load}$ is the total load force. \n",
    "\n",
    "The engine torque is computed from the throttle input and the engine angular velocity $\\omega_e$ using a simplified quadratic model. \n",
    "\n",
    "\\begin{align}\n",
    "    T_e = x_{\\theta}(a_0 + a_1 \\omega_e + a_2 \\omega_e^2)\n",
    "\\end{align}\n",
    "\n",
    "The load forces consist of aerodynamic drag $F_{aero}$, rolling friction $R_x$, and gravitational force $F_g$ from an incline at angle $\\alpha$. The aerodynamic drag is a quadratic model and the friction is a linear model.\n",
    "\n",
    "\\begin{align}\n",
    "    F_{load} &= F_{aero} + R_x + F_g \\\\\n",
    "    F_{aero} &= \\frac{1}{2} C_a \\rho A \\dot{x}^2 = c_a \\dot{x}^2\\\\\n",
    "    R_x &= N(\\hat{c}_{r,0} + \\hat{c}_{r,1}|\\dot{x}| + \\hat{c}_{r,2}\\dot{x}^2) \\approx c_{r,1} \\dot{x}\\\\\n",
    "    F_g &= mg\\sin{\\alpha}\n",
    "\\end{align}\n",
    "\n",
    "Note that the absolute value is ignored for friction since the model is used for only forward motion ($\\dot{x} \\ge 0$). \n",
    " \n",
    "The tire force is computed using the engine speed and wheel slip equations.\n",
    "\n",
    "\\begin{align}\n",
    "    \\omega_w &= (GR)\\omega_e \\\\\n",
    "    s &= \\frac{\\omega_w r_e - \\dot{x}}{\\dot{x}}\\\\\n",
    "    F_x &= \\left\\{\\begin{array}{lr}\n",
    "        cs, &  |s| < 1\\\\\n",
    "        F_{max}, & \\text{otherwise}\n",
    "        \\end{array}\\right\\} \n",
    "\\end{align}\n",
    "\n",
    "Where $\\omega_w$ is the wheel angular velocity and $s$ is the slip ratio. "
   ]
  },
  {
   "cell_type": "code",
   "execution_count": 5,
   "metadata": {},
   "outputs": [],
   "source": [
    "import sys\n",
    "import numpy as np\n",
    "import matplotlib.pyplot as plt\n",
    "import matplotlib.image as mpimg\n",
    "\n",
    "class Vehicle():\n",
    "    def __init__(self):\n",
    "        \n",
    "        #Throttle to engine torque\n",
    "        self.a_0 = 400\n",
    "        self.a_1 = 0.1\n",
    "        self.a_2 = -0.0002\n",
    "        \n",
    "        # Gear ratio, effective radius, mass + inertia\n",
    "        self.GR = 0.35\n",
    "        self.r_e = 0.3\n",
    "        self.J_e = 10\n",
    "        self.m = 2000\n",
    "        self.g = 9.81\n",
    "        \n",
    "        # Aerodynamic and friction coefficients\n",
    "        self.c_a = 1.36\n",
    "        self.c_r1 = 0.01\n",
    "        \n",
    "        # Tire force \n",
    "        self.c = 10000\n",
    "        self.F_max = 10000\n",
    "        \n",
    "        # State variables\n",
    "        self.x = 0\n",
    "        self.v = 5\n",
    "        self.a = 0\n",
    "        self.w_e = 100\n",
    "        self.w_e_dot = 0\n",
    "        \n",
    "        self.sample_time = 0.01\n",
    "        \n",
    "    def reset(self):\n",
    "        # reset state variables\n",
    "        self.x = 0\n",
    "        self.v = 5\n",
    "        self.a = 0\n",
    "        self.w_e = 100\n",
    "        self.w_e_dot = 0"
   ]
  },
  {
   "cell_type": "markdown",
   "metadata": {},
   "source": [
    "Here, we design a function step that changes the values of the state variables according to the given inputs of throttle (i.e. throttle percentage) and alpha (i.e. incline angle of the surface). This function is designed assuming that each step is taken at an interval of time that is very very small. This helps us we can imply by this that change in various variables during that time interval is negligible."
   ]
  },
  {
   "cell_type": "code",
   "execution_count": 6,
   "metadata": {},
   "outputs": [],
   "source": [
    "class Vehicle(Vehicle):\n",
    "    def step(self, throttle, alpha):\n",
    "        \n",
    "        # Calculating w_w\n",
    "        w_w = self.GR * self.w_e\n",
    "        # Calculating s\n",
    "        s = (w_w * self.r_e / self.v) - 1\n",
    "        # Claculating F_x\n",
    "        F_x = self.F_max\n",
    "        if s<1 and s>-1 :\n",
    "            F_x = self.c * s\n",
    "        # Calculating F_aero\n",
    "        F_aero = self.c_a * (self.v ** 2)\n",
    "        # Calculating R_x\n",
    "        R_x = self.c_r1 * self.v\n",
    "        # Calculating F_g\n",
    "        F_g = self.m * self.g * np.sin(alpha)\n",
    "        # Calculating F_load\n",
    "        F_load = F_aero + R_x + F_g\n",
    "        # Setting a\n",
    "        self.a = (F_x - F_load) / self.m\n",
    "        # Setting v\n",
    "        self.v = self.a * self.sample_time + self.v\n",
    "        # Setting x\n",
    "        self.x = self.v * self.sample_time + self.x\n",
    "        # Calculating T_e\n",
    "        T_e = throttle * (self.a_0 + (self.a_1 * self.w_e) + (self.a_2 * (self.w_e ** 2)))\n",
    "        # Setting w_e_dot\n",
    "        self.w_e_dot = (T_e -(self.GR * self.r_e * F_load))/self.J_e\n",
    "        # Setting w_e\n",
    "        self.w_e = self.w_e_dot * self.sample_time + self.w_e\n",
    "        \n",
    "        pass"
   ]
  },
  {
   "cell_type": "markdown",
   "metadata": {},
   "source": [
    "In the next cell we try to drive the vehicle over the slope shown in the diagram below. \n",
    "\n",
    "![ramp](ramp.png)\n",
    "\n",
    "To climb the slope, a trapezoidal throttle input is provided for the next 20 seconds as shown in the figure below. \n",
    "\n",
    "![throttle](throttle.png)\n",
    "\n",
    "The vehicle begins at 20% throttle and gradually increases to 50% throttle. This is maintained for 10 seconds as the vehicle climbs the steeper slope. Afterwards, the vehicle reduces the throttle to 0."
   ]
  },
  {
   "cell_type": "code",
   "execution_count": 21,
   "metadata": {},
   "outputs": [
    {
     "data": {
      "image/png": "[encoded data removed]",
      "text/plain": [
       "<Figure size 432x288 with 1 Axes>"
      ]
     },
     "metadata": {
      "needs_background": "light"
     },
     "output_type": "display_data"
    },
    {
     "data": {
      "image/png": "[encoded data removed]",
      "text/plain": [
       "<Figure size 432x288 with 1 Axes>"
      ]
     },
     "metadata": {
      "needs_background": "light"
     },
     "output_type": "display_data"
    }
   ],
   "source": [
    "sample_time = 0.01\n",
    "time_end = 20\n",
    "model = Vehicle()\n",
    "t_data = np.arange(0,time_end,sample_time)\n",
    "x_data = np.zeros_like(t_data)\n",
    "a_data = np.zeros_like(t_data)\n",
    "throttle_data = np.zeros_like(t_data)\n",
    "\n",
    "# reset the states\n",
    "model.reset()\n",
    "\n",
    "def throttle(t) : \n",
    "    if t<500 :\n",
    "        throttle_data[t] = (0.2 + 0.0006 * t)\n",
    "        return (0.2 + 0.0006 * t)\n",
    "    elif t<1500 :\n",
    "        throttle_data[t] = 0.5\n",
    "        return 0.5\n",
    "    else :\n",
    "        throttle_data[t] = (0.5 - 0.001 * (t-1500))\n",
    "        return (0.5 - 0.001 * (t-1500))\n",
    "\n",
    "def alpha(x) : \n",
    "    if x<60 :\n",
    "        return np.arctan(3/60)\n",
    "    elif x<150 :\n",
    "        return np.arctan(9/90)\n",
    "    else :\n",
    "        return 0\n",
    "    \n",
    "for i in range(t_data.shape[0]):\n",
    "    x_data[i] = model.x\n",
    "    model.step(throttle(i), alpha(model.x))\n",
    "\n",
    "# Plot x vs t for visualization\n",
    "plt.title(\"displacement vs time\")\n",
    "plt.xlabel('time')\n",
    "plt.ylabel('displacement')\n",
    "markers_on = [500, 1500]\n",
    "plt.plot(t_data, x_data, '-gD', markevery=markers_on)\n",
    "plt.show()\n",
    "\n",
    "# Plot throttle vs t for visualization\n",
    "plt.title(\"throttle vs time\")\n",
    "plt.xlabel('time')\n",
    "plt.ylabel('throttle')\n",
    "plt.plot(t_data, throttle_data)\n",
    "plt.show()"
   ]
  },
  {
   "cell_type": "markdown",
   "metadata": {},
   "source": [
    "Here, we can see the throttle vs time graph is identical to the case. And by looking at the displacement graph we can see that the slope is traversed according to the statement. We can also see when the car actually changes it's throttle value according to it's position on the slope."
   ]
  }
 ],
 "metadata": {
  "kernelspec": {
   "display_name": "Python 3",
   "language": "python",
   "name": "python3"
  },
  "language_info": {
   "codemirror_mode": {
    "name": "ipython",
    "version": 3
   },
   "file_extension": ".py",
   "mimetype": "text/x-python",
   "name": "python",
   "nbconvert_exporter": "python",
   "pygments_lexer": "ipython3",
   "version": "3.7.1"
  }
 },
 "nbformat": 4,
 "nbformat_minor": 2
}
